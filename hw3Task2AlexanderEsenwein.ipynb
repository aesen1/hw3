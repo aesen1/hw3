{
 "cells": [
  {
   "cell_type": "code",
   "execution_count": 1,
   "id": "12b9df56",
   "metadata": {},
   "outputs": [],
   "source": [
    "import numpy as np\n",
    "import pandas as pd\n",
    "\n",
    "from surprise import SVD\n",
    "from surprise import dataset\n",
    "from surprise import accuracy\n",
    "from surprise import Reader\n",
    "from surprise.model_selection import cross_validate\n",
    "from surprise.model_selection import train_test_split\n",
    "\n",
    "movies = \"movies_metadata.csv/movies_metadata.csv\"\n",
    "ratings = \"ratings_small.csv/ratings_small.csv\"\n",
    "links = \"links_small.csv\"\n",
    "keywords = \"keywords.csv/keywords.csv\"\n",
    "credits = \"credits.csv/credits.csv\""
   ]
  },
  {
   "cell_type": "markdown",
   "id": "d319b063",
   "metadata": {},
   "source": [
    "### Parsing the dataset for use"
   ]
  },
  {
   "cell_type": "code",
   "execution_count": 2,
   "id": "0595747c",
   "metadata": {
    "scrolled": false
   },
   "outputs": [
    {
     "name": "stdout",
     "output_type": "stream",
     "text": [
      "   userId  movieId  rating   timestamp\n",
      "0       1       31     2.5  1260759144\n",
      "1       1     1029     3.0  1260759179\n",
      "2       1     1061     3.0  1260759182\n",
      "3       1     1129     2.0  1260759185\n",
      "4       1     1172     4.0  1260759205\n"
     ]
    }
   ],
   "source": [
    "df = pd.read_csv(ratings)\n",
    "print(df.head())\n",
    "reader = Reader(line_format='user item rating timestamp', rating_scale=(1, 5))\n",
    "\n",
    "class MyDataset(dataset.DatasetAutoFolds):\n",
    "\n",
    "    def __init__(self, df, reader):\n",
    "\n",
    "        self.raw_ratings = [(uid, iid, r, t) for (uid, iid, r, t) in\n",
    "                            zip(df['userId'], df['movieId'], df['rating'], df['timestamp'])]\n",
    "        self.reader=reader\n",
    "\n",
    "data = MyDataset(df, reader)"
   ]
  },
  {
   "cell_type": "markdown",
   "id": "7055d472",
   "metadata": {},
   "source": [
    "### Creating the Algo"
   ]
  },
  {
   "cell_type": "code",
   "execution_count": 13,
   "id": "4a639e2a",
   "metadata": {},
   "outputs": [
    {
     "name": "stdout",
     "output_type": "stream",
     "text": [
      "rmse: 0.8955473527533115\n",
      "mae: 0.6888858730937051\n"
     ]
    }
   ],
   "source": [
    "algo = SVD()\n",
    "trainset, testset = train_test_split(data, test_size=0.25)\n",
    "algo.fit(trainset)\n",
    "predictions = algo.test(testset)\n",
    "folds = 5\n",
    "valid = cross_validate(algo, data,measures=['RMSE', 'MAE'],cv=folds, verbose=False, n_jobs=-2)\n",
    "sums = 0\n",
    "for x in valid['test_rmse']:\n",
    "    sums += x\n",
    "print(\"rmse: \" + str(sums/folds))\n",
    "\n",
    "sums = 0\n",
    "for x in valid['test_mae']:\n",
    "    sums += x\n",
    "print(\"mae: \" + str(sums/folds))"
   ]
  },
  {
   "cell_type": "code",
   "execution_count": null,
   "id": "d1b020a3",
   "metadata": {},
   "outputs": [],
   "source": []
  }
 ],
 "metadata": {
  "kernelspec": {
   "display_name": "Python 3 (ipykernel)",
   "language": "python",
   "name": "python3"
  },
  "language_info": {
   "codemirror_mode": {
    "name": "ipython",
    "version": 3
   },
   "file_extension": ".py",
   "mimetype": "text/x-python",
   "name": "python",
   "nbconvert_exporter": "python",
   "pygments_lexer": "ipython3",
   "version": "3.9.13"
  }
 },
 "nbformat": 4,
 "nbformat_minor": 5
}
